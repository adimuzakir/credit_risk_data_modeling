{
  "cells": [
    {
      "cell_type": "markdown",
      "metadata": {
        "id": "YeJQzx2uhKM6"
      },
      "source": [
        "## Business Understanding\n",
        "\n",
        "Salah satu bank terkemuka ingin memprediksi nasabah yang terindikasi kredit macet saat mengajukan pinjaman. Pemberi pinjaman biasanya membuat dua jenis keputusan:\n",
        "1. Apakah akan memberikan kredit kepada pemohon baru\n",
        "2. Bagaimana menangani pemohon yang sudah ada, termasuk apakah akan meningkatkan batas kredit mereka.\n",
        "\n",
        "Dalam kedua kasus tersebut, apapun teknik yang digunakan, sangat penting bahwa ada sampel besar pelanggan sebelumnya dengan detail aplikasi, pola perilaku, dan riwayat kredit berikutnya yang tersedia. Sebagian besar teknik menggunakan sampel ini untuk mengidentifikasi hubungan antara karakteristik konsumen (pendapatan tahunan, usia, jumlah tahun bekerja dengan pemberi kerja saat ini, dll.) dan riwayat mereka selanjutnya. Area aplikasi khas di pasar konsumen meliputi: kartu kredit, pinjaman mobil, hipotek rumah, pinjaman ekuitas rumah, pesanan katalog surat, dan berbagai macam produk pinjaman pribadi.\n",
        "\n",
        "Objectives : Prediktive pengajuan nasabah kartu kredit yang baru akan gagal bayar atau tidak\n",
        "#### Predictive Analytic untuk Meminimalisir Angka Risiko Nasabah Baru yang Berpotensi Gagal Bayar pada Pengejuan Kartu Kredit menggunakan Pendekatan Sains Data\n",
        "Case : Klasifikasi --> Supervised Learning\n",
        "Kemungkinan Algoritma yang Akan digunakan:\n",
        "1. Decission Tree\n",
        "2. Random Forest\n",
        "3. Logistic Regression\n",
        "4. SVM (Support Vector Machine)\n",
        "5. XG-BOOST Classifier"
      ]
    },
    {
      "cell_type": "markdown",
      "metadata": {
        "id": "gMSQfF7cqrT3"
      },
      "source": [
        "## Data Understanding"
      ]
    },
    {
      "cell_type": "code",
      "execution_count": 54,
      "metadata": {
        "id": "te_04vfQhQEC"
      },
      "outputs": [],
      "source": [
        "import pandas as pd\n",
        "import numpy as np\n",
        "import seaborn as sns\n",
        "import matplotlib.pyplot as plt"
      ]
    },
    {
      "cell_type": "code",
      "execution_count": 55,
      "metadata": {
        "colab": {
          "base_uri": "https://localhost:8080/",
          "height": 206
        },
        "id": "Faq7b40UoJCF",
        "outputId": "aff9b5a4-aa65-45d1-fd88-8a0937a610d8"
      },
      "outputs": [
        {
          "data": {
            "text/html": [
              "<div>\n",
              "<style scoped>\n",
              "    .dataframe tbody tr th:only-of-type {\n",
              "        vertical-align: middle;\n",
              "    }\n",
              "\n",
              "    .dataframe tbody tr th {\n",
              "        vertical-align: top;\n",
              "    }\n",
              "\n",
              "    .dataframe thead th {\n",
              "        text-align: right;\n",
              "    }\n",
              "</style>\n",
              "<table border=\"1\" class=\"dataframe\">\n",
              "  <thead>\n",
              "    <tr style=\"text-align: right;\">\n",
              "      <th></th>\n",
              "      <th>Unnamed: 0</th>\n",
              "      <th>age</th>\n",
              "      <th>ed</th>\n",
              "      <th>employ</th>\n",
              "      <th>address</th>\n",
              "      <th>income</th>\n",
              "      <th>debtinc</th>\n",
              "      <th>creddebt</th>\n",
              "      <th>othdebt</th>\n",
              "      <th>default</th>\n",
              "    </tr>\n",
              "  </thead>\n",
              "  <tbody>\n",
              "    <tr>\n",
              "      <th>0</th>\n",
              "      <td>0</td>\n",
              "      <td>41</td>\n",
              "      <td>3</td>\n",
              "      <td>17</td>\n",
              "      <td>12</td>\n",
              "      <td>176</td>\n",
              "      <td>9.3</td>\n",
              "      <td>11.359392</td>\n",
              "      <td>5.008608</td>\n",
              "      <td>1.0</td>\n",
              "    </tr>\n",
              "    <tr>\n",
              "      <th>1</th>\n",
              "      <td>1</td>\n",
              "      <td>27</td>\n",
              "      <td>1</td>\n",
              "      <td>10</td>\n",
              "      <td>6</td>\n",
              "      <td>31</td>\n",
              "      <td>17.3</td>\n",
              "      <td>1.362202</td>\n",
              "      <td>4.000798</td>\n",
              "      <td>0.0</td>\n",
              "    </tr>\n",
              "    <tr>\n",
              "      <th>2</th>\n",
              "      <td>2</td>\n",
              "      <td>40</td>\n",
              "      <td>1</td>\n",
              "      <td>15</td>\n",
              "      <td>14</td>\n",
              "      <td>55</td>\n",
              "      <td>5.5</td>\n",
              "      <td>0.856075</td>\n",
              "      <td>2.168925</td>\n",
              "      <td>0.0</td>\n",
              "    </tr>\n",
              "    <tr>\n",
              "      <th>3</th>\n",
              "      <td>3</td>\n",
              "      <td>41</td>\n",
              "      <td>1</td>\n",
              "      <td>15</td>\n",
              "      <td>14</td>\n",
              "      <td>120</td>\n",
              "      <td>2.9</td>\n",
              "      <td>2.658720</td>\n",
              "      <td>0.821280</td>\n",
              "      <td>0.0</td>\n",
              "    </tr>\n",
              "    <tr>\n",
              "      <th>4</th>\n",
              "      <td>4</td>\n",
              "      <td>24</td>\n",
              "      <td>2</td>\n",
              "      <td>2</td>\n",
              "      <td>0</td>\n",
              "      <td>28</td>\n",
              "      <td>17.3</td>\n",
              "      <td>1.787436</td>\n",
              "      <td>3.056564</td>\n",
              "      <td>1.0</td>\n",
              "    </tr>\n",
              "  </tbody>\n",
              "</table>\n",
              "</div>"
            ],
            "text/plain": [
              "   Unnamed: 0  age  ed  employ  address  income  debtinc   creddebt   othdebt  \\\n",
              "0           0   41   3      17       12     176      9.3  11.359392  5.008608   \n",
              "1           1   27   1      10        6      31     17.3   1.362202  4.000798   \n",
              "2           2   40   1      15       14      55      5.5   0.856075  2.168925   \n",
              "3           3   41   1      15       14     120      2.9   2.658720  0.821280   \n",
              "4           4   24   2       2        0      28     17.3   1.787436  3.056564   \n",
              "\n",
              "   default  \n",
              "0      1.0  \n",
              "1      0.0  \n",
              "2      0.0  \n",
              "3      0.0  \n",
              "4      1.0  "
            ]
          },
          "execution_count": 55,
          "metadata": {},
          "output_type": "execute_result"
        }
      ],
      "source": [
        "df = pd.read_csv('credit_risk_1.csv')\n",
        "df.head()"
      ]
    },
    {
      "cell_type": "markdown",
      "metadata": {
        "id": "w4LS3FHNpO-9"
      },
      "source": [
        "# Data Description\n",
        "\n",
        "\n",
        "Data Description There are 9 attributes containing 850 customer records followed by:\n",
        "\n",
        "\n",
        "age: Umur nasabah\n",
        "\n",
        "\n",
        "ed : Level pendidikan nasabah\n",
        "\n",
        "\n",
        "employ : Masa jabatan dengan pemberi kerja saat ini (dalam tahun)\n",
        "\n",
        "\n",
        "address : Jumlah tahun di alamat yang sama\n",
        "\n",
        "\n",
        "income : Pendapatan nasabah\n",
        "\n",
        "\n",
        "debtinc : Debt to income ratio (Rasio hutang terhadap pendapatan) Rasio hutang terhadap pendapatan adalah semua pembayaran hutang bulanan Anda dibagi dengan pendapatan kotor bulanan Anda. Angka ini adalah salah satu cara pemberi pinjaman mengukur kemampuan Anda untuk mengelola pembayaran bulanan untuk melunasi uang yang Anda rencanakan untuk dipinjam. Rasio hutang terhadap pendapatan Anda tidak secara langsung mempengaruhi nilai kredit Anda. Ini karena lembaga kredit tidak tahu berapa banyak uang yang Anda peroleh, sehingga mereka tidak dapat melakukan penghitungan\n",
        "\n",
        "\n",
        "creddebt : Credit to debt ratio (Rasio kredit terhadap utang) Menunjukkan bahwa persentase rasio hutang terhadap kredit yang baik di bawah 30%. Dan itu berlaku untuk rasio Anda pada salah satu kartu Anda secara terpisah serta untuk rasio keseluruhan Anda.\n",
        "\n",
        "\n",
        "othdebt : utang lainnya\n",
        "\n",
        "\n",
        "default : Label pelanggan gagal di masa lalu (1 = gagal , 0 = tidak pernah gagal)\n"
      ]
    },
    {
      "cell_type": "code",
      "execution_count": 56,
      "metadata": {
        "colab": {
          "base_uri": "https://localhost:8080/"
        },
        "id": "2XdZFfE0sXc3",
        "outputId": "1bc76c1d-fc9a-48e7-b84a-c029af8c6cc3"
      },
      "outputs": [
        {
          "name": "stdout",
          "output_type": "stream",
          "text": [
            "<class 'pandas.core.frame.DataFrame'>\n",
            "RangeIndex: 700 entries, 0 to 699\n",
            "Data columns (total 10 columns):\n",
            " #   Column      Non-Null Count  Dtype  \n",
            "---  ------      --------------  -----  \n",
            " 0   Unnamed: 0  700 non-null    int64  \n",
            " 1   age         700 non-null    int64  \n",
            " 2   ed          700 non-null    int64  \n",
            " 3   employ      700 non-null    int64  \n",
            " 4   address     700 non-null    int64  \n",
            " 5   income      700 non-null    int64  \n",
            " 6   debtinc     700 non-null    float64\n",
            " 7   creddebt    700 non-null    float64\n",
            " 8   othdebt     700 non-null    float64\n",
            " 9   default     700 non-null    float64\n",
            "dtypes: float64(4), int64(6)\n",
            "memory usage: 54.8 KB\n"
          ]
        }
      ],
      "source": [
        "df.info()"
      ]
    },
    {
      "cell_type": "markdown",
      "metadata": {
        "id": "Hd8dZBZ2yfGj"
      },
      "source": [
        "Tipe data semuanya numerik, tetapi casenya adalah case klasifikasi, sehingga pada tahap pemodelan data Variable dependen/variabel target harus diubah ke dalam bentuk kategori\n",
        "\n",
        "Syarat KLASIFIKASI:\n",
        "1. Variabel target/dependen --> kategorik\n",
        "2. Input variabel bisa kategorik bisa numerik\n",
        "\n",
        "VARIABEL TARGET/DEPENDEN : default\n",
        "\n",
        "input variabel :\n",
        "1. age\n",
        "2. ed\n",
        "3. employ\n",
        "4. address\n",
        "5. income\n",
        "6. debtinc\n",
        "7. creddebt\n",
        "8. othdebt\n",
        "\n",
        "1= gagal bayar, 0= tidak gagal bayar"
      ]
    },
    {
      "cell_type": "code",
      "execution_count": 57,
      "metadata": {
        "colab": {
          "base_uri": "https://localhost:8080/"
        },
        "id": "f62gmgbsssVv",
        "outputId": "0dbb7007-6890-4588-8b15-4ef07c6fba77"
      },
      "outputs": [
        {
          "data": {
            "text/plain": [
              "Unnamed: 0    0\n",
              "age           0\n",
              "ed            0\n",
              "employ        0\n",
              "address       0\n",
              "income        0\n",
              "debtinc       0\n",
              "creddebt      0\n",
              "othdebt       0\n",
              "default       0\n",
              "dtype: int64"
            ]
          },
          "execution_count": 57,
          "metadata": {},
          "output_type": "execute_result"
        }
      ],
      "source": [
        "df.isnull().sum()"
      ]
    },
    {
      "cell_type": "code",
      "execution_count": 58,
      "metadata": {
        "colab": {
          "base_uri": "https://localhost:8080/"
        },
        "id": "hZ5EaiNnu_rD",
        "outputId": "d0488c32-4c57-44bf-ef7b-1a1d36b3337a"
      },
      "outputs": [
        {
          "data": {
            "text/plain": [
              "default\n",
              "0.0    517\n",
              "1.0    183\n",
              "Name: count, dtype: int64"
            ]
          },
          "execution_count": 58,
          "metadata": {},
          "output_type": "execute_result"
        }
      ],
      "source": [
        "df['default'].value_counts()"
      ]
    },
    {
      "cell_type": "code",
      "execution_count": 59,
      "metadata": {
        "colab": {
          "base_uri": "https://localhost:8080/"
        },
        "id": "YnUCPpWE5iHe",
        "outputId": "2e3c0d7c-dd2f-4245-c6fa-1c3e82ebfdbb"
      },
      "outputs": [
        {
          "data": {
            "text/plain": [
              "ed\n",
              "1    372\n",
              "2    198\n",
              "3     87\n",
              "4     38\n",
              "5      5\n",
              "Name: count, dtype: int64"
            ]
          },
          "execution_count": 59,
          "metadata": {},
          "output_type": "execute_result"
        }
      ],
      "source": [
        "df['ed'].value_counts()"
      ]
    },
    {
      "cell_type": "code",
      "execution_count": 60,
      "metadata": {
        "id": "Bvr0ALUB262x"
      },
      "outputs": [],
      "source": [
        "df= df[['age', 'ed', 'employ', 'address', 'income', 'debtinc', 'creddebt', 'othdebt', 'default']]"
      ]
    },
    {
      "cell_type": "code",
      "execution_count": 61,
      "metadata": {
        "colab": {
          "base_uri": "https://localhost:8080/",
          "height": 449
        },
        "id": "38j_S1HD0vzY",
        "outputId": "28df2fb5-53c0-410d-863d-7967feb6ed41"
      },
      "outputs": [
        {
          "data": {
            "image/png": "[encoded data removed]",
            "text/plain": [
              "<Figure size 640x480 with 1 Axes>"
            ]
          },
          "metadata": {},
          "output_type": "display_data"
        }
      ],
      "source": [
        "# Analisis Outlier \n",
        "sns.boxplot(x='variable', y='value', data=pd.melt(df))\n",
        "plt.xticks(rotation=45)\n",
        "plt.show()"
      ]
    },
    {
      "cell_type": "code",
      "execution_count": 62,
      "metadata": {
        "id": "ZDb6oo0-35pD"
      },
      "outputs": [],
      "source": [
        "df_a=df[['age', 'ed', 'employ', 'address', 'debtinc', 'creddebt', 'othdebt']]"
      ]
    },
    {
      "cell_type": "code",
      "execution_count": 63,
      "metadata": {
        "colab": {
          "base_uri": "https://localhost:8080/",
          "height": 449
        },
        "id": "0q_ayI1D4kkR",
        "outputId": "5f17c010-f899-4ba8-feb1-dfe67ceca731"
      },
      "outputs": [
        {
          "data": {
            "image/png": "[encoded data removed]",
            "text/plain": [
              "<Figure size 640x480 with 1 Axes>"
            ]
          },
          "metadata": {},
          "output_type": "display_data"
        }
      ],
      "source": [
        "sns.boxplot(x='variable', y='value', data=pd.melt(df_a))\n",
        "plt.xticks(rotation=45)\n",
        "plt.show()"
      ]
    },
    {
      "cell_type": "code",
      "execution_count": 64,
      "metadata": {
        "colab": {
          "base_uri": "https://localhost:8080/",
          "height": 449
        },
        "id": "sAInxWTD55r9",
        "outputId": "3bb88706-5dc5-4f37-d1b6-bc17116a6642"
      },
      "outputs": [
        {
          "data": {
            "image/png": "[encoded data removed]",
            "text/plain": [
              "<Figure size 640x480 with 1 Axes>"
            ]
          },
          "metadata": {},
          "output_type": "display_data"
        }
      ],
      "source": [
        "df_b=df[['ed']]\n",
        "sns.boxplot(x='variable', y='value', data=pd.melt(df_b))\n",
        "plt.show()"
      ]
    },
    {
      "cell_type": "markdown",
      "metadata": {
        "id": "0btS0LBw5Q20"
      },
      "source": [
        "1. Calon nasabah kredit di dominasi usia di atas 20 Tahun\n",
        "2. Tingkat pendidikan calon nasabah ada 5 (SD/SMP/SMA/S1/S2) didominasi tingkat 1 dan 2 berdasarkan pada area boxplot (seberapa banyaknya), sedangkan ED 3--> lebih sedikit. Makin sedikit level pendidikan maka semakin besar peluang pengajuan kreditnya\n",
        "3. Seseorang percaya diri mengajukan kredit jika sudah 2 tahun tinggal ditempat yang sama dan jabatan yang sama, rasio debit dalam 2 tahun (nilainya sama)\n",
        "4. Ada banyak nasabah kredit memiliki hutang lainnya"
      ]
    },
    {
      "cell_type": "code",
      "execution_count": 65,
      "metadata": {
        "colab": {
          "base_uri": "https://localhost:8080/",
          "height": 170
        },
        "id": "nFMJJuAH8HA8",
        "outputId": "16987f2b-154f-45ef-90f4-3693e1c55387"
      },
      "outputs": [
        {
          "data": {
            "text/plain": [
              "<seaborn.axisgrid.FacetGrid at 0x2b4494f3130>"
            ]
          },
          "execution_count": 65,
          "metadata": {},
          "output_type": "execute_result"
        },
        {
          "data": {
            "image/png": "[encoded data removed]",
            "text/plain": [
              "<Figure size 1572x300 with 5 Axes>"
            ]
          },
          "metadata": {},
          "output_type": "display_data"
        }
      ],
      "source": [
        "scatplot =sns.FacetGrid(df, col='ed', hue='default')\n",
        "scatplot.map(plt.scatter, 'age', 'othdebt', alpha=.7)\n",
        "scatplot.add_legend()"
      ]
    },
    {
      "cell_type": "markdown",
      "metadata": {
        "id": "Tnldp5onA-Fb"
      },
      "source": [
        "1. potensi gagal bayar didominasi pada range usia 20 sd 30 pada level ED 1\n",
        "2. potensi gagal bayar didominasi pada range usia 20 sd 35 pada level ED 2\n",
        "3. potensi gagal bayar didominasi pada range usia 20 sd 45 pada level ED 3\n",
        "4. potensi gagal bayar didominasi pada range usia 20 sd 28 pada level ED 4\n",
        "5. potensi gagal bayar didominasi pada range usia diatas 50 pada level ED 5"
      ]
    },
    {
      "cell_type": "markdown",
      "metadata": {
        "id": "3UM1Si6yCxZ1"
      },
      "source": [
        "## Data Preparation"
      ]
    },
    {
      "cell_type": "code",
      "execution_count": 66,
      "metadata": {
        "colab": {
          "base_uri": "https://localhost:8080/"
        },
        "id": "-nVqPt6TBQUM",
        "outputId": "a3e93e1d-0500-4bca-8f84-4622bbc29d16"
      },
      "outputs": [
        {
          "data": {
            "text/plain": [
              "age         0\n",
              "ed          0\n",
              "employ      0\n",
              "address     0\n",
              "income      0\n",
              "debtinc     0\n",
              "creddebt    0\n",
              "othdebt     0\n",
              "default     0\n",
              "dtype: int64"
            ]
          },
          "execution_count": 66,
          "metadata": {},
          "output_type": "execute_result"
        }
      ],
      "source": [
        "df.isnull().sum()"
      ]
    },
    {
      "cell_type": "code",
      "execution_count": 67,
      "metadata": {
        "colab": {
          "base_uri": "https://localhost:8080/"
        },
        "id": "JJ3ypKdODeCi",
        "outputId": "d591513c-437f-4641-d44c-c87829a2c626"
      },
      "outputs": [
        {
          "data": {
            "text/plain": [
              "age         0\n",
              "ed          0\n",
              "employ      0\n",
              "address     0\n",
              "income      0\n",
              "debtinc     0\n",
              "creddebt    0\n",
              "othdebt     0\n",
              "default     0\n",
              "dtype: int64"
            ]
          },
          "execution_count": 67,
          "metadata": {},
          "output_type": "execute_result"
        }
      ],
      "source": [
        "df.isna().sum()"
      ]
    },
    {
      "cell_type": "markdown",
      "metadata": {
        "id": "VDkhJY9zDil6"
      },
      "source": [
        "## Pemodelan Data"
      ]
    },
    {
      "cell_type": "code",
      "execution_count": 68,
      "metadata": {
        "id": "tIxVQvkbDkos"
      },
      "outputs": [],
      "source": [
        "from sklearn.model_selection import train_test_split\n",
        "from sklearn import metrics"
      ]
    },
    {
      "cell_type": "code",
      "execution_count": 69,
      "metadata": {
        "id": "5kDFoMDuD_Jc"
      },
      "outputs": [],
      "source": [
        "from sklearn.metrics import accuracy_score\n",
        "from sklearn.metrics import classification_report\n",
        "from sklearn.metrics import precision_score, recall_score\n",
        "from sklearn.metrics import confusion_matrix"
      ]
    },
    {
      "cell_type": "code",
      "execution_count": 70,
      "metadata": {
        "id": "heztKEoIGMvG"
      },
      "outputs": [],
      "source": [
        "x = df[['age', 'ed', 'employ', 'address', 'income', 'debtinc', 'creddebt', 'othdebt']] # Input Variabel\n",
        "y = df['default'].astype('category') # Target variabel"
      ]
    },
    {
      "cell_type": "code",
      "execution_count": 71,
      "metadata": {
        "id": "8Gua-IIVHWWi"
      },
      "outputs": [],
      "source": [
        "# SPLIT testing & training data\n",
        "x_train, x_test, y_train, y_test=train_test_split(x,y, test_size=0.3, random_state=0)"
      ]
    },
    {
      "cell_type": "markdown",
      "metadata": {
        "id": "YAKYveAAF4fB"
      },
      "source": [
        "### Pemodelan menggunakan Decission Tree"
      ]
    },
    {
      "cell_type": "code",
      "execution_count": 72,
      "metadata": {
        "id": "tt8CBiHNEfJm"
      },
      "outputs": [],
      "source": [
        "from sklearn.tree import DecisionTreeClassifier"
      ]
    },
    {
      "cell_type": "code",
      "execution_count": 73,
      "metadata": {
        "id": "i3Hk6qBnGGMk"
      },
      "outputs": [],
      "source": [
        "# membuat object algoritma decision tree\n",
        "tree =DecisionTreeClassifier(criterion='gini', splitter='best', max_depth=6)\n",
        "\n",
        "# memodelkan data menggunakan algoritma decisiontree\n",
        "model_tree =tree.fit(x_train, y_train)\n",
        "\n",
        "# melakukan predict pada data test\n",
        "pred_tree =model_tree.predict(x_test)"
      ]
    },
    {
      "cell_type": "code",
      "execution_count": 74,
      "metadata": {
        "colab": {
          "base_uri": "https://localhost:8080/"
        },
        "id": "oHo8kdu6JSaa",
        "outputId": "33b11534-924f-4c4c-cf2c-7b03a42d255a"
      },
      "outputs": [
        {
          "name": "stdout",
          "output_type": "stream",
          "text": [
            "              precision    recall  f1-score   support\n",
            "\n",
            "         0.0       0.83      0.81      0.82       155\n",
            "         1.0       0.49      0.53      0.51        55\n",
            "\n",
            "    accuracy                           0.73       210\n",
            "   macro avg       0.66      0.67      0.66       210\n",
            "weighted avg       0.74      0.73      0.74       210\n",
            "\n"
          ]
        }
      ],
      "source": [
        "print(classification_report(y_test, pred_tree))"
      ]
    },
    {
      "cell_type": "code",
      "execution_count": 75,
      "metadata": {
        "colab": {
          "base_uri": "https://localhost:8080/",
          "height": 467
        },
        "id": "WP2tEPLQM94g",
        "outputId": "61ff553c-19ec-457f-b3c5-7b56f0e222a0"
      },
      "outputs": [
        {
          "data": {
            "text/plain": [
              "Text(113.9222222222222, 0.5, 'predicted  label')"
            ]
          },
          "execution_count": 75,
          "metadata": {},
          "output_type": "execute_result"
        },
        {
          "data": {
            "image/png": "[encoded data removed]",
            "text/plain": [
              "<Figure size 640x480 with 1 Axes>"
            ]
          },
          "metadata": {},
          "output_type": "display_data"
        }
      ],
      "source": [
        "# Visualize the confusion matrix of Decision Tree\n",
        "mat = confusion_matrix (y_test, pred_tree)\n",
        "sns.heatmap(mat.T, square = True, annot = True, fmt = 'd', cbar= False)\n",
        "plt.xlabel('true label')\n",
        "plt.ylabel('predicted  label')"
      ]
    },
    {
      "cell_type": "code",
      "execution_count": 76,
      "metadata": {
        "colab": {
          "base_uri": "https://localhost:8080/",
          "height": 448
        },
        "id": "o6WaL-T_rbOL",
        "outputId": "ac16c0c5-9592-4e1b-e0ff-ee65cba82a06"
      },
      "outputs": [
        {
          "data": {
            "text/plain": [
              "<Axes: >"
            ]
          },
          "execution_count": 76,
          "metadata": {},
          "output_type": "execute_result"
        },
        {
          "data": {
            "image/png": "[encoded data removed]",
            "text/plain": [
              "<Figure size 640x480 with 1 Axes>"
            ]
          },
          "metadata": {},
          "output_type": "display_data"
        }
      ],
      "source": [
        "# signifikan faktor dari model tersebut yang menggambarkan nasabah gagal bayar/tidak\n",
        "feat_importances=pd.Series(model_tree.feature_importances_, index=x.columns)\n",
        "feat_importances.nlargest(10).plot(kind='barh')"
      ]
    },
    {
      "cell_type": "markdown",
      "metadata": {
        "id": "VIzE7DqWuaa_"
      },
      "source": [
        "### Pemodelan menggunakan random forrest"
      ]
    },
    {
      "cell_type": "code",
      "execution_count": 77,
      "metadata": {
        "id": "mQUczMREuL4n"
      },
      "outputs": [],
      "source": [
        "from sklearn.ensemble import RandomForestClassifier\n",
        "from sklearn.preprocessing import LabelEncoder\n",
        "from sklearn.preprocessing import StandardScaler"
      ]
    },
    {
      "cell_type": "code",
      "execution_count": 78,
      "metadata": {
        "id": "DUGOWnexvU02"
      },
      "outputs": [],
      "source": [
        "# Membuat object algoritma random forest klasifikasi\n",
        "clf_rf = RandomForestClassifier(n_estimators=200, max_depth=6)\n",
        "\n",
        "# memodelkan data menggunakan algoritma random forest\n",
        "model_rf = clf_rf.fit(x_train, y_train)\n",
        "\n",
        "# melakukan predict pada data test\n",
        "pred_rf =model_rf.predict(x_test)"
      ]
    },
    {
      "cell_type": "code",
      "execution_count": 79,
      "metadata": {
        "colab": {
          "base_uri": "https://localhost:8080/"
        },
        "id": "roXguOV9vgwb",
        "outputId": "2e1f816a-6ee6-4c2e-d3ff-a8dc7c60e9c8"
      },
      "outputs": [
        {
          "name": "stdout",
          "output_type": "stream",
          "text": [
            "              precision    recall  f1-score   support\n",
            "\n",
            "         0.0       0.81      0.94      0.87       155\n",
            "         1.0       0.69      0.36      0.48        55\n",
            "\n",
            "    accuracy                           0.79       210\n",
            "   macro avg       0.75      0.65      0.67       210\n",
            "weighted avg       0.78      0.79      0.77       210\n",
            "\n"
          ]
        }
      ],
      "source": [
        "print(classification_report(y_test, pred_rf))"
      ]
    },
    {
      "cell_type": "code",
      "execution_count": 80,
      "metadata": {
        "colab": {
          "base_uri": "https://localhost:8080/",
          "height": 467
        },
        "id": "AlYO-Ek-xt1_",
        "outputId": "58f51959-d458-481d-a72a-d45d0876a0ed"
      },
      "outputs": [
        {
          "data": {
            "text/plain": [
              "Text(113.9222222222222, 0.5, 'predicted  label')"
            ]
          },
          "execution_count": 80,
          "metadata": {},
          "output_type": "execute_result"
        },
        {
          "data": {
            "image/png": "[encoded data removed]",
            "text/plain": [
              "<Figure size 640x480 with 1 Axes>"
            ]
          },
          "metadata": {},
          "output_type": "display_data"
        }
      ],
      "source": [
        "# Visualize the confusion matrix of Random forest\n",
        "mat = confusion_matrix (y_test, pred_rf)\n",
        "sns.heatmap(mat.T, square = True, annot = True, fmt = 'd', cbar= False)\n",
        "plt.xlabel('true label')\n",
        "plt.ylabel('predicted  label')"
      ]
    },
    {
      "cell_type": "code",
      "execution_count": 81,
      "metadata": {
        "colab": {
          "base_uri": "https://localhost:8080/",
          "height": 448
        },
        "id": "bI8K6G8pyB8C",
        "outputId": "ff8faaa5-c95d-410f-e512-0cb067167886"
      },
      "outputs": [
        {
          "data": {
            "text/plain": [
              "<Axes: >"
            ]
          },
          "execution_count": 81,
          "metadata": {},
          "output_type": "execute_result"
        },
        {
          "data": {
            "image/png": "[encoded data removed]",
            "text/plain": [
              "<Figure size 640x480 with 1 Axes>"
            ]
          },
          "metadata": {},
          "output_type": "display_data"
        }
      ],
      "source": [
        "feat_importances=pd.Series(model_rf.feature_importances_, index=x.columns)\n",
        "feat_importances.nlargest(10).plot(kind='barh')"
      ]
    },
    {
      "cell_type": "markdown",
      "metadata": {
        "id": "Ptgljj-PygPQ"
      },
      "source": [
        "### Pemodelan Menggunakan XG-BOOST Classifier"
      ]
    },
    {
      "cell_type": "code",
      "execution_count": 82,
      "metadata": {
        "id": "Vw5CDXnsyfjb"
      },
      "outputs": [],
      "source": [
        "from xgboost import XGBClassifier"
      ]
    },
    {
      "cell_type": "code",
      "execution_count": 83,
      "metadata": {
        "id": "rUfwA_96y8Qb"
      },
      "outputs": [],
      "source": [
        "# Membuat object algoritma random forest klasifikasi\n",
        "clf_xg = XGBClassifier()\n",
        "\n",
        "# memodelkan data menggunakan algoritma random forest\n",
        "model_xg = clf_xg.fit(x_train, y_train)\n",
        "\n",
        "# melakukan predict pada data test\n",
        "pred_xg =model_xg.predict(x_test)"
      ]
    },
    {
      "cell_type": "code",
      "execution_count": 84,
      "metadata": {
        "colab": {
          "base_uri": "https://localhost:8080/"
        },
        "id": "2wpaRCf5zSfO",
        "outputId": "639c3261-104b-4494-ca07-d4d0e007ef3e"
      },
      "outputs": [
        {
          "name": "stdout",
          "output_type": "stream",
          "text": [
            "              precision    recall  f1-score   support\n",
            "\n",
            "         0.0       0.82      0.88      0.85       155\n",
            "         1.0       0.57      0.44      0.49        55\n",
            "\n",
            "    accuracy                           0.77       210\n",
            "   macro avg       0.69      0.66      0.67       210\n",
            "weighted avg       0.75      0.77      0.76       210\n",
            "\n"
          ]
        }
      ],
      "source": [
        "print(classification_report(y_test, pred_xg))"
      ]
    },
    {
      "cell_type": "code",
      "execution_count": 85,
      "metadata": {
        "colab": {
          "base_uri": "https://localhost:8080/",
          "height": 467
        },
        "id": "WBVnO-Mczomv",
        "outputId": "828e4eb6-b256-4891-81ac-818415e78900"
      },
      "outputs": [
        {
          "data": {
            "text/plain": [
              "Text(113.9222222222222, 0.5, 'predicted  label')"
            ]
          },
          "execution_count": 85,
          "metadata": {},
          "output_type": "execute_result"
        },
        {
          "data": {
            "image/png": "[encoded data removed]",
            "text/plain": [
              "<Figure size 640x480 with 1 Axes>"
            ]
          },
          "metadata": {},
          "output_type": "display_data"
        }
      ],
      "source": [
        "# Visualize the confusion matrix of Random forest\n",
        "mat = confusion_matrix (y_test, pred_xg)\n",
        "sns.heatmap(mat.T, square = True, annot = True, fmt = 'd', cbar= False)\n",
        "plt.xlabel('true label')\n",
        "plt.ylabel('predicted  label')"
      ]
    },
    {
      "cell_type": "code",
      "execution_count": 86,
      "metadata": {
        "colab": {
          "base_uri": "https://localhost:8080/",
          "height": 448
        },
        "id": "FyiNK98D0dDW",
        "outputId": "41642351-a831-49ba-f60d-a46dac243e23"
      },
      "outputs": [
        {
          "data": {
            "text/plain": [
              "<Axes: >"
            ]
          },
          "execution_count": 86,
          "metadata": {},
          "output_type": "execute_result"
        },
        {
          "data": {
            "image/png": "[encoded data removed]",
            "text/plain": [
              "<Figure size 640x480 with 1 Axes>"
            ]
          },
          "metadata": {},
          "output_type": "display_data"
        }
      ],
      "source": [
        "feat_importances=pd.Series(model_xg.feature_importances_, index=x.columns)\n",
        "feat_importances.nlargest(10).plot(kind='barh')"
      ]
    },
    {
      "cell_type": "markdown",
      "metadata": {
        "id": "zCfsVmfw7Bfd"
      },
      "source": [
        "### Pemodelan menggunakan Logistik Regression"
      ]
    },
    {
      "cell_type": "code",
      "execution_count": 87,
      "metadata": {
        "id": "_319H2pu5ail"
      },
      "outputs": [],
      "source": [
        "from sklearn.linear_model import LogisticRegression"
      ]
    },
    {
      "cell_type": "code",
      "execution_count": 88,
      "metadata": {
        "id": "7ZEGjf3w7ahV"
      },
      "outputs": [],
      "source": [
        "# Membuat object algoritma random forest klasifikasi\n",
        "clf_lr =LogisticRegression()\n",
        "\n",
        "# memodelkan data menggunakan algoritma random forest\n",
        "model_lr = clf_lr.fit(x_train, y_train)\n",
        "\n",
        "# melakukan predict pada data test\n",
        "pred_lr =model_lr.predict(x_test)"
      ]
    },
    {
      "cell_type": "code",
      "execution_count": 89,
      "metadata": {
        "colab": {
          "base_uri": "https://localhost:8080/"
        },
        "id": "yA6goF407xiE",
        "outputId": "9741b77e-bae1-4289-c547-ae37b3aeddfb"
      },
      "outputs": [
        {
          "name": "stdout",
          "output_type": "stream",
          "text": [
            "              precision    recall  f1-score   support\n",
            "\n",
            "         0.0       0.82      0.95      0.88       155\n",
            "         1.0       0.73      0.40      0.52        55\n",
            "\n",
            "    accuracy                           0.80       210\n",
            "   macro avg       0.77      0.67      0.70       210\n",
            "weighted avg       0.79      0.80      0.78       210\n",
            "\n"
          ]
        }
      ],
      "source": [
        "print(classification_report(y_test, pred_lr))"
      ]
    },
    {
      "cell_type": "code",
      "execution_count": 90,
      "metadata": {
        "colab": {
          "base_uri": "https://localhost:8080/",
          "height": 467
        },
        "id": "nDAToH6B8BuU",
        "outputId": "725f9a5e-3809-436e-a3e1-610aeec32835"
      },
      "outputs": [
        {
          "data": {
            "text/plain": [
              "Text(113.9222222222222, 0.5, 'predicted  label')"
            ]
          },
          "execution_count": 90,
          "metadata": {},
          "output_type": "execute_result"
        },
        {
          "data": {
            "image/png": "[encoded data removed]",
            "text/plain": [
              "<Figure size 640x480 with 1 Axes>"
            ]
          },
          "metadata": {},
          "output_type": "display_data"
        }
      ],
      "source": [
        "# Visualize the confusion matrix of Logistik Regression\n",
        "mat = confusion_matrix (y_test, pred_lr)\n",
        "sns.heatmap(mat.T, square = True, annot = True, fmt = 'd', cbar= False)\n",
        "plt.xlabel('true label')\n",
        "plt.ylabel('predicted  label')"
      ]
    },
    {
      "cell_type": "markdown",
      "metadata": {
        "id": "bNFKQYvM8584"
      },
      "source": [
        "### Pemodelan menggunakan SVM"
      ]
    },
    {
      "cell_type": "code",
      "execution_count": 91,
      "metadata": {
        "id": "fjXv80sK9E0T"
      },
      "outputs": [],
      "source": [
        "from sklearn.svm import SVC"
      ]
    },
    {
      "cell_type": "code",
      "execution_count": 92,
      "metadata": {
        "id": "Tko9iR1l89JV"
      },
      "outputs": [],
      "source": [
        "# Membuat object algoritma random forest klasifikasi\n",
        "clf_svm =SVC(kernel='linear', random_state=0)\n",
        "\n",
        "# memodelkan data menggunakan algoritma random forest\n",
        "model_svm = clf_svm.fit(x_train, y_train)\n",
        "\n",
        "# melakukan predict pada data test\n",
        "pred_svm =model_svm.predict(x_test)"
      ]
    },
    {
      "cell_type": "code",
      "execution_count": 93,
      "metadata": {
        "colab": {
          "base_uri": "https://localhost:8080/"
        },
        "id": "y1HKRYqv9zaI",
        "outputId": "cc62b20b-d830-4726-ac7c-d8562c31d89f"
      },
      "outputs": [
        {
          "name": "stdout",
          "output_type": "stream",
          "text": [
            "              precision    recall  f1-score   support\n",
            "\n",
            "         0.0       0.82      0.94      0.88       155\n",
            "         1.0       0.73      0.44      0.55        55\n",
            "\n",
            "    accuracy                           0.81       210\n",
            "   macro avg       0.78      0.69      0.71       210\n",
            "weighted avg       0.80      0.81      0.79       210\n",
            "\n"
          ]
        }
      ],
      "source": [
        "print(classification_report(y_test, pred_svm))"
      ]
    },
    {
      "cell_type": "code",
      "execution_count": 94,
      "metadata": {
        "colab": {
          "base_uri": "https://localhost:8080/",
          "height": 467
        },
        "id": "dwWF6Hxn99ON",
        "outputId": "351b92ae-954b-4694-99c1-a257cd80f19a"
      },
      "outputs": [
        {
          "data": {
            "text/plain": [
              "Text(113.9222222222222, 0.5, 'predicted  label')"
            ]
          },
          "execution_count": 94,
          "metadata": {},
          "output_type": "execute_result"
        },
        {
          "data": {
            "image/png": "[encoded data removed]",
            "text/plain": [
              "<Figure size 640x480 with 1 Axes>"
            ]
          },
          "metadata": {},
          "output_type": "display_data"
        }
      ],
      "source": [
        "# Visualize the confusion matrix of SVM\n",
        "mat = confusion_matrix (y_test, pred_svm)\n",
        "sns.heatmap(mat.T, square = True, annot = True, fmt = 'd', cbar= False)\n",
        "plt.xlabel('true label')\n",
        "plt.ylabel('predicted  label')"
      ]
    },
    {
      "cell_type": "markdown",
      "metadata": {
        "id": "wQDMnj_q_uuw"
      },
      "source": [
        "# Implementasi Model\n",
        "\n",
        "Model terbaik menggunakan SVM dengan akurasi 81% dan presisi 82%"
      ]
    },
    {
      "cell_type": "code",
      "execution_count": 95,
      "metadata": {
        "colab": {
          "base_uri": "https://localhost:8080/",
          "height": 423
        },
        "id": "Zqpdr8Lx-KfG",
        "outputId": "088c1847-b840-4230-b692-4a073ba3955a"
      },
      "outputs": [
        {
          "data": {
            "text/html": [
              "<div>\n",
              "<style scoped>\n",
              "    .dataframe tbody tr th:only-of-type {\n",
              "        vertical-align: middle;\n",
              "    }\n",
              "\n",
              "    .dataframe tbody tr th {\n",
              "        vertical-align: top;\n",
              "    }\n",
              "\n",
              "    .dataframe thead th {\n",
              "        text-align: right;\n",
              "    }\n",
              "</style>\n",
              "<table border=\"1\" class=\"dataframe\">\n",
              "  <thead>\n",
              "    <tr style=\"text-align: right;\">\n",
              "      <th></th>\n",
              "      <th>Unnamed: 0</th>\n",
              "      <th>age</th>\n",
              "      <th>ed</th>\n",
              "      <th>employ</th>\n",
              "      <th>address</th>\n",
              "      <th>income</th>\n",
              "      <th>debtinc</th>\n",
              "      <th>creddebt</th>\n",
              "      <th>othdebt</th>\n",
              "      <th>default</th>\n",
              "    </tr>\n",
              "  </thead>\n",
              "  <tbody>\n",
              "    <tr>\n",
              "      <th>0</th>\n",
              "      <td>700</td>\n",
              "      <td>36</td>\n",
              "      <td>1</td>\n",
              "      <td>16</td>\n",
              "      <td>13</td>\n",
              "      <td>32</td>\n",
              "      <td>10.9</td>\n",
              "      <td>0.544128</td>\n",
              "      <td>2.943872</td>\n",
              "      <td>NaN</td>\n",
              "    </tr>\n",
              "    <tr>\n",
              "      <th>1</th>\n",
              "      <td>701</td>\n",
              "      <td>50</td>\n",
              "      <td>1</td>\n",
              "      <td>6</td>\n",
              "      <td>27</td>\n",
              "      <td>21</td>\n",
              "      <td>12.9</td>\n",
              "      <td>1.316574</td>\n",
              "      <td>1.392426</td>\n",
              "      <td>NaN</td>\n",
              "    </tr>\n",
              "    <tr>\n",
              "      <th>2</th>\n",
              "      <td>702</td>\n",
              "      <td>40</td>\n",
              "      <td>1</td>\n",
              "      <td>9</td>\n",
              "      <td>9</td>\n",
              "      <td>33</td>\n",
              "      <td>17.0</td>\n",
              "      <td>4.880700</td>\n",
              "      <td>0.729300</td>\n",
              "      <td>NaN</td>\n",
              "    </tr>\n",
              "    <tr>\n",
              "      <th>3</th>\n",
              "      <td>703</td>\n",
              "      <td>31</td>\n",
              "      <td>1</td>\n",
              "      <td>5</td>\n",
              "      <td>7</td>\n",
              "      <td>23</td>\n",
              "      <td>2.0</td>\n",
              "      <td>0.046000</td>\n",
              "      <td>0.414000</td>\n",
              "      <td>NaN</td>\n",
              "    </tr>\n",
              "    <tr>\n",
              "      <th>4</th>\n",
              "      <td>704</td>\n",
              "      <td>29</td>\n",
              "      <td>1</td>\n",
              "      <td>4</td>\n",
              "      <td>0</td>\n",
              "      <td>24</td>\n",
              "      <td>7.8</td>\n",
              "      <td>0.866736</td>\n",
              "      <td>1.005264</td>\n",
              "      <td>NaN</td>\n",
              "    </tr>\n",
              "  </tbody>\n",
              "</table>\n",
              "</div>"
            ],
            "text/plain": [
              "   Unnamed: 0  age  ed  employ  address  income  debtinc  creddebt   othdebt  \\\n",
              "0         700   36   1      16       13      32     10.9  0.544128  2.943872   \n",
              "1         701   50   1       6       27      21     12.9  1.316574  1.392426   \n",
              "2         702   40   1       9        9      33     17.0  4.880700  0.729300   \n",
              "3         703   31   1       5        7      23      2.0  0.046000  0.414000   \n",
              "4         704   29   1       4        0      24      7.8  0.866736  1.005264   \n",
              "\n",
              "   default  \n",
              "0      NaN  \n",
              "1      NaN  \n",
              "2      NaN  \n",
              "3      NaN  \n",
              "4      NaN  "
            ]
          },
          "execution_count": 95,
          "metadata": {},
          "output_type": "execute_result"
        }
      ],
      "source": [
        "# Load data nasabah baru/calon nasabah yang mengajukan kredit \n",
        "df_newNasabah =pd.read_csv('credit_risk_newCust.csv')\n",
        "df_newNasabah.head()"
      ]
    },
    {
      "cell_type": "code",
      "execution_count": 96,
      "metadata": {
        "colab": {
          "base_uri": "https://localhost:8080/"
        },
        "id": "9GucBUcwEWQf",
        "outputId": "e466d960-a463-43b8-ffa0-e781c6091471"
      },
      "outputs": [
        {
          "name": "stdout",
          "output_type": "stream",
          "text": [
            "<class 'pandas.core.frame.DataFrame'>\n",
            "RangeIndex: 150 entries, 0 to 149\n",
            "Data columns (total 10 columns):\n",
            " #   Column      Non-Null Count  Dtype  \n",
            "---  ------      --------------  -----  \n",
            " 0   Unnamed: 0  150 non-null    int64  \n",
            " 1   age         150 non-null    int64  \n",
            " 2   ed          150 non-null    int64  \n",
            " 3   employ      150 non-null    int64  \n",
            " 4   address     150 non-null    int64  \n",
            " 5   income      150 non-null    int64  \n",
            " 6   debtinc     150 non-null    float64\n",
            " 7   creddebt    150 non-null    float64\n",
            " 8   othdebt     150 non-null    float64\n",
            " 9   default     0 non-null      float64\n",
            "dtypes: float64(4), int64(6)\n",
            "memory usage: 11.8 KB\n"
          ]
        }
      ],
      "source": [
        "df_newNasabah.info()"
      ]
    },
    {
      "cell_type": "code",
      "execution_count": 97,
      "metadata": {
        "id": "lHiuLgDU9gf7"
      },
      "outputs": [],
      "source": [
        "# Input Variabel untuk predict\n",
        "x2 = df_newNasabah[['age', 'ed', 'employ', 'address', 'income', 'debtinc', 'creddebt', 'othdebt']]"
      ]
    },
    {
      "cell_type": "code",
      "execution_count": 98,
      "metadata": {
        "id": "T8wY1_TXJchj"
      },
      "outputs": [],
      "source": [
        "# Predict menggunakan model svm\n",
        "prediction_svm = model_svm.predict(x2)"
      ]
    },
    {
      "cell_type": "code",
      "execution_count": 99,
      "metadata": {
        "colab": {
          "base_uri": "https://localhost:8080/"
        },
        "id": "WjgM1xQq9PXy",
        "outputId": "49a3a2f6-7a6d-423d-8c8f-cb084d51a5e5"
      },
      "outputs": [
        {
          "data": {
            "text/plain": [
              "array([0., 0., 1., 0., 0., 0., 0., 1., 0., 0., 0., 0., 0., 0., 0., 0., 1.,\n",
              "       0., 0., 0., 0., 0., 0., 0., 0., 0., 0., 0., 0., 0., 0., 0., 1., 0.,\n",
              "       0., 0., 0., 0., 0., 0., 1., 0., 0., 0., 0., 1., 0., 0., 0., 0., 0.,\n",
              "       0., 0., 0., 0., 0., 1., 0., 0., 0., 0., 0., 0., 1., 0., 0., 0., 0.,\n",
              "       0., 0., 1., 0., 0., 1., 0., 0., 0., 1., 0., 0., 0., 1., 0., 1., 1.,\n",
              "       0., 0., 0., 0., 1., 0., 0., 0., 0., 0., 0., 0., 0., 0., 0., 0., 1.,\n",
              "       0., 1., 0., 0., 0., 1., 0., 0., 1., 0., 0., 0., 0., 0., 0., 0., 0.,\n",
              "       0., 0., 0., 1., 0., 0., 0., 1., 0., 0., 0., 0., 0., 0., 0., 0., 0.,\n",
              "       1., 0., 0., 0., 1., 0., 0., 0., 0., 0., 0., 0., 0., 0.])"
            ]
          },
          "execution_count": 99,
          "metadata": {},
          "output_type": "execute_result"
        }
      ],
      "source": [
        "prediction_svm"
      ]
    },
    {
      "cell_type": "code",
      "execution_count": 100,
      "metadata": {
        "colab": {
          "base_uri": "https://localhost:8080/",
          "height": 206
        },
        "id": "T4EbB-mnJlxN",
        "outputId": "ba6b07bd-4b3b-49ac-c790-f9c2647ae10e"
      },
      "outputs": [
        {
          "data": {
            "text/html": [
              "<div>\n",
              "<style scoped>\n",
              "    .dataframe tbody tr th:only-of-type {\n",
              "        vertical-align: middle;\n",
              "    }\n",
              "\n",
              "    .dataframe tbody tr th {\n",
              "        vertical-align: top;\n",
              "    }\n",
              "\n",
              "    .dataframe thead th {\n",
              "        text-align: right;\n",
              "    }\n",
              "</style>\n",
              "<table border=\"1\" class=\"dataframe\">\n",
              "  <thead>\n",
              "    <tr style=\"text-align: right;\">\n",
              "      <th></th>\n",
              "      <th>prediction</th>\n",
              "    </tr>\n",
              "  </thead>\n",
              "  <tbody>\n",
              "    <tr>\n",
              "      <th>0</th>\n",
              "      <td>0.0</td>\n",
              "    </tr>\n",
              "    <tr>\n",
              "      <th>1</th>\n",
              "      <td>0.0</td>\n",
              "    </tr>\n",
              "    <tr>\n",
              "      <th>2</th>\n",
              "      <td>1.0</td>\n",
              "    </tr>\n",
              "    <tr>\n",
              "      <th>3</th>\n",
              "      <td>0.0</td>\n",
              "    </tr>\n",
              "    <tr>\n",
              "      <th>4</th>\n",
              "      <td>0.0</td>\n",
              "    </tr>\n",
              "    <tr>\n",
              "      <th>...</th>\n",
              "      <td>...</td>\n",
              "    </tr>\n",
              "    <tr>\n",
              "      <th>145</th>\n",
              "      <td>0.0</td>\n",
              "    </tr>\n",
              "    <tr>\n",
              "      <th>146</th>\n",
              "      <td>0.0</td>\n",
              "    </tr>\n",
              "    <tr>\n",
              "      <th>147</th>\n",
              "      <td>0.0</td>\n",
              "    </tr>\n",
              "    <tr>\n",
              "      <th>148</th>\n",
              "      <td>0.0</td>\n",
              "    </tr>\n",
              "    <tr>\n",
              "      <th>149</th>\n",
              "      <td>0.0</td>\n",
              "    </tr>\n",
              "  </tbody>\n",
              "</table>\n",
              "<p>150 rows × 1 columns</p>\n",
              "</div>"
            ],
            "text/plain": [
              "     prediction\n",
              "0           0.0\n",
              "1           0.0\n",
              "2           1.0\n",
              "3           0.0\n",
              "4           0.0\n",
              "..          ...\n",
              "145         0.0\n",
              "146         0.0\n",
              "147         0.0\n",
              "148         0.0\n",
              "149         0.0\n",
              "\n",
              "[150 rows x 1 columns]"
            ]
          },
          "execution_count": 100,
          "metadata": {},
          "output_type": "execute_result"
        }
      ],
      "source": [
        "## Membuat object baru untuk preparing hasil pemodelan data menggunakan data baru\n",
        "df_pred= pd.DataFrame({'prediction':prediction_svm})\n",
        "df_pred"
      ]
    },
    {
      "cell_type": "code",
      "execution_count": 101,
      "metadata": {
        "id": "--IudNMtKHik"
      },
      "outputs": [
        {
          "data": {
            "text/html": [
              "<div>\n",
              "<style scoped>\n",
              "    .dataframe tbody tr th:only-of-type {\n",
              "        vertical-align: middle;\n",
              "    }\n",
              "\n",
              "    .dataframe tbody tr th {\n",
              "        vertical-align: top;\n",
              "    }\n",
              "\n",
              "    .dataframe thead th {\n",
              "        text-align: right;\n",
              "    }\n",
              "</style>\n",
              "<table border=\"1\" class=\"dataframe\">\n",
              "  <thead>\n",
              "    <tr style=\"text-align: right;\">\n",
              "      <th></th>\n",
              "      <th>age</th>\n",
              "      <th>ed</th>\n",
              "      <th>employ</th>\n",
              "      <th>address</th>\n",
              "      <th>income</th>\n",
              "      <th>debtinc</th>\n",
              "      <th>creddebt</th>\n",
              "      <th>othdebt</th>\n",
              "      <th>prediction</th>\n",
              "    </tr>\n",
              "  </thead>\n",
              "  <tbody>\n",
              "    <tr>\n",
              "      <th>0</th>\n",
              "      <td>36</td>\n",
              "      <td>1</td>\n",
              "      <td>16</td>\n",
              "      <td>13</td>\n",
              "      <td>32</td>\n",
              "      <td>10.9</td>\n",
              "      <td>0.544128</td>\n",
              "      <td>2.943872</td>\n",
              "      <td>0.0</td>\n",
              "    </tr>\n",
              "    <tr>\n",
              "      <th>1</th>\n",
              "      <td>50</td>\n",
              "      <td>1</td>\n",
              "      <td>6</td>\n",
              "      <td>27</td>\n",
              "      <td>21</td>\n",
              "      <td>12.9</td>\n",
              "      <td>1.316574</td>\n",
              "      <td>1.392426</td>\n",
              "      <td>0.0</td>\n",
              "    </tr>\n",
              "    <tr>\n",
              "      <th>2</th>\n",
              "      <td>40</td>\n",
              "      <td>1</td>\n",
              "      <td>9</td>\n",
              "      <td>9</td>\n",
              "      <td>33</td>\n",
              "      <td>17.0</td>\n",
              "      <td>4.880700</td>\n",
              "      <td>0.729300</td>\n",
              "      <td>1.0</td>\n",
              "    </tr>\n",
              "    <tr>\n",
              "      <th>3</th>\n",
              "      <td>31</td>\n",
              "      <td>1</td>\n",
              "      <td>5</td>\n",
              "      <td>7</td>\n",
              "      <td>23</td>\n",
              "      <td>2.0</td>\n",
              "      <td>0.046000</td>\n",
              "      <td>0.414000</td>\n",
              "      <td>0.0</td>\n",
              "    </tr>\n",
              "    <tr>\n",
              "      <th>4</th>\n",
              "      <td>29</td>\n",
              "      <td>1</td>\n",
              "      <td>4</td>\n",
              "      <td>0</td>\n",
              "      <td>24</td>\n",
              "      <td>7.8</td>\n",
              "      <td>0.866736</td>\n",
              "      <td>1.005264</td>\n",
              "      <td>0.0</td>\n",
              "    </tr>\n",
              "  </tbody>\n",
              "</table>\n",
              "</div>"
            ],
            "text/plain": [
              "   age  ed  employ  address  income  debtinc  creddebt   othdebt  prediction\n",
              "0   36   1      16       13      32     10.9  0.544128  2.943872         0.0\n",
              "1   50   1       6       27      21     12.9  1.316574  1.392426         0.0\n",
              "2   40   1       9        9      33     17.0  4.880700  0.729300         1.0\n",
              "3   31   1       5        7      23      2.0  0.046000  0.414000         0.0\n",
              "4   29   1       4        0      24      7.8  0.866736  1.005264         0.0"
            ]
          },
          "execution_count": 101,
          "metadata": {},
          "output_type": "execute_result"
        }
      ],
      "source": [
        "df_pred_newNasabah = pd.concat([x2, df_pred],sort=True, axis=1)\n",
        "df_pred_newNasabah.head()"
      ]
    },
    {
      "cell_type": "code",
      "execution_count": 102,
      "metadata": {
        "colab": {
          "base_uri": "https://localhost:8080/"
        },
        "id": "5DUtrEfCMf_S",
        "outputId": "7cd25c77-7829-407b-d3b3-3c2eca4beea1"
      },
      "outputs": [
        {
          "data": {
            "text/plain": [
              "prediction\n",
              "0.0    127\n",
              "1.0     23\n",
              "Name: count, dtype: int64"
            ]
          },
          "execution_count": 102,
          "metadata": {},
          "output_type": "execute_result"
        }
      ],
      "source": [
        "df_pred_newNasabah['prediction'].value_counts()"
      ]
    },
    {
      "cell_type": "markdown",
      "metadata": {
        "id": "a0iqFRCHMrDH"
      },
      "source": [
        "Dari hasil tersebut maka bank akan memutuskan ada sebanyak 127 calon nasabah yang direrima permohonan kreditnya dan ada 23 nasabah yang ditolak permohonan kreditnya"
      ]
    },
    {
      "cell_type": "code",
      "execution_count": 103,
      "metadata": {
        "colab": {
          "base_uri": "https://localhost:8080/",
          "height": 17
        },
        "id": "sRezTiaJMpp5",
        "outputId": "89b682b5-92d8-4b1f-ad69-23563e71da9f"
      },
      "outputs": [],
      "source": [
        "df_pred_newNasabah.to_csv(path_or_buf='./predict_newNasabah.csv', index= False)"
      ]
    }
  ],
  "metadata": {
    "accelerator": "GPU",
    "colab": {
      "provenance": []
    },
    "gpuClass": "standard",
    "kernelspec": {
      "display_name": "Python 3",
      "name": "python3"
    },
    "language_info": {
      "codemirror_mode": {
        "name": "ipython",
        "version": 3
      },
      "file_extension": ".py",
      "mimetype": "text/x-python",
      "name": "python",
      "nbconvert_exporter": "python",
      "pygments_lexer": "ipython3",
      "version": "3.10.11"
    }
  },
  "nbformat": 4,
  "nbformat_minor": 0
}
